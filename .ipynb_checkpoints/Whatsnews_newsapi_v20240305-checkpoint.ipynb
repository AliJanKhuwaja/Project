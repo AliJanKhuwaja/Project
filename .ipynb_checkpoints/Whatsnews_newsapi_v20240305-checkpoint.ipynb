{
 "cells": [
  {
   "cell_type": "code",
   "execution_count": 27,
   "id": "5cdd6948",
   "metadata": {},
   "outputs": [],
   "source": [
    "from newsapi import NewsApiClient\n",
    "import requests\n",
    "import pandas as pd\n",
    "import pymysql.cursors\n",
    "import random\n",
    "from datetime import datetime\n",
    "import json\n",
    "from openai import OpenAI"
   ]
  },
  {
   "cell_type": "code",
   "execution_count": 28,
   "id": "44498839",
   "metadata": {},
   "outputs": [],
   "source": [
    "def get_news_headlines(domains='cnn.com, foxnews.com, dailymail.co.uk, theguardian.com, reuters.com, finance.yahoo.com, forbes.com, bbc.co.uk, bbc.com, nytimes.com, news.google.com', \n",
    "                      language='en', \n",
    "                      from_param='2024-03-03T00:00:00', \n",
    "                      to_param='2024-03-04T00:00:00', \n",
    "                      sort_by='popularity',\n",
    "                      page_size=100,\n",
    "                      api_key='c30415236c3e4c7ea2b547eeb757e0c6'):\n",
    "    api_query = f'https://newsapi.org/v2/everything?domains={domains}&language={language}&from={from_param}&to={to_param}&sortBy={sort_by}&pageSize={page_size}&apiKey={api_key}'\n",
    "\n",
    "    response = requests.get(api_query)\n",
    "    \n",
    "    if response.status_code == 200:\n",
    "        data_return = response.json()\n",
    "        #reverse from least popular to most popular among the {page_size} articles\n",
    "        data_return['articles'] = list(reversed(data_return['articles']))\n",
    "\n",
    "        total_results = data_return.get('totalResults', 0)\n",
    "        #print(f\"Total results: {total_results}\")\n",
    "        \n",
    "        # Select four random articles\n",
    "        random_articles = random.sample(data_return['articles'], 4)\n",
    "        #print(random_articles)\n",
    "\n",
    "        return random_articles\n",
    "    \n",
    "check_data_return = get_news_headlines()"
   ]
  },
  {
   "cell_type": "code",
   "execution_count": 29,
   "id": "8175bdfb",
   "metadata": {},
   "outputs": [],
   "source": [
    "database = pd.DataFrame(columns=['group_id', 'title', 'published_at', 'url_to_image', 'keywords'])\n",
    "for i in range(4):\n",
    "    database.loc[len(database.index)] = [i+1,\n",
    "                                         check_data_return[i][\"title\"],\n",
    "                                         check_data_return[i][\"publishedAt\"],\n",
    "                                         check_data_return[i][\"urlToImage\"],\n",
    "                                         [\"null\",\"null\",\"null\",\"null\"]]\n",
    "database.to_csv(\"database.csv\")"
   ]
  }
 ],
 "metadata": {
  "kernelspec": {
   "display_name": "Python 3 (ipykernel)",
   "language": "python",
   "name": "python3"
  },
  "language_info": {
   "codemirror_mode": {
    "name": "ipython",
    "version": 3
   },
   "file_extension": ".py",
   "mimetype": "text/x-python",
   "name": "python",
   "nbconvert_exporter": "python",
   "pygments_lexer": "ipython3",
   "version": "3.11.5"
  }
 },
 "nbformat": 4,
 "nbformat_minor": 5
}
